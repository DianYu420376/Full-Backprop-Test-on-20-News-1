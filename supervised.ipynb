{
 "cells": [
  {
   "cell_type": "code",
   "execution_count": 1,
   "metadata": {},
   "outputs": [],
   "source": [
    "'''\n",
    "Training a fully supervised one layer NMF on 20 news group dataset\n",
    "'''\n",
    "# define some global variables\n",
    "save_PATH = 'saved_data/'\n",
    "save_filename = 'supervised_one_layer'"
   ]
  },
  {
   "cell_type": "code",
   "execution_count": 2,
   "metadata": {},
   "outputs": [],
   "source": [
    "# import package\n",
    "%load_ext memory_profiler\n",
    "import torch\n",
    "from torch.autograd import Variable\n",
    "import Ipynb_importer\n",
    "from deep_nmf import Deep_NMF, Energy_Loss_Func, Fro_Norm\n",
    "from writer import Writer\n",
    "from matplotlib import pyplot as plt\n",
    "import numpy as np\n",
    "from auxillary_functions import *"
   ]
  },
  {
   "cell_type": "code",
   "execution_count": 3,
   "metadata": {},
   "outputs": [
    {
     "name": "stdout",
     "output_type": "stream",
     "text": [
      "importing Jupyter notebook from twenty_news_group_data_loading.ipynb\n"
     ]
    }
   ],
   "source": [
    "# load the dataset for twenty news\n",
    "from twenty_news_group_data_loading import data, Y, target,L20, L50, L90, sparsedata_cr_entr, sparsedata_L2#, get_whole_output"
   ]
  },
  {
   "cell_type": "code",
   "execution_count": 75,
   "metadata": {},
   "outputs": [],
   "source": [
    "# Define the network \n",
    "m = data.shape[1]\n",
    "k = 20\n",
    "c = 20\n",
    "lambd = 1e-4\n",
    "net = Deep_NMF([m, k], c)\n",
    "loss_func = Energy_Loss_Func(lambd = lambd, classification_type = 'L2')\n",
    "data_input = data*1000\n",
    "dataset = sparsedata_L2(data_input, 1000*Y)\n",
    "criterion = Fro_Norm()\n"
   ]
  },
  {
   "cell_type": "code",
   "execution_count": 71,
   "metadata": {},
   "outputs": [],
   "source": [
    "# try initializing the network with the unsupervised version\n",
    "#A = np.load(save_PATH + '20_news_group_A.npy')\n",
    "#net.lsqnonneglst[0].A.data = torch.from_numpy(A)"
   ]
  },
  {
   "cell_type": "code",
   "execution_count": 76,
   "metadata": {},
   "outputs": [],
   "source": [
    "net.linear.weight.data = torch.randn(net.linear.weight.data.shape).double()"
   ]
  },
  {
   "cell_type": "code",
   "execution_count": null,
   "metadata": {},
   "outputs": [
    {
     "name": "stdout",
     "output_type": "stream",
     "text": [
      "tensor(9.4478, dtype=torch.float64)\n",
      "87.41873025894165\n",
      "tensor(9.4467, dtype=torch.float64)\n",
      "87.82430291175842\n",
      "tensor(9.4681, dtype=torch.float64)\n",
      "95.53686833381653\n",
      "tensor(9.4258, dtype=torch.float64)\n",
      "98.79695081710815\n",
      "tensor(9.3624, dtype=torch.float64)\n",
      "105.68007183074951\n",
      "tensor(9.1866, dtype=torch.float64)\n",
      "109.89492964744568\n",
      "tensor(9.3280, dtype=torch.float64)\n",
      "112.49032616615295\n",
      "tensor(9.2759, dtype=torch.float64)\n",
      "112.19051170349121\n",
      "tensor(9.2203, dtype=torch.float64)\n",
      "118.95234799385071\n",
      "tensor(9.1752, dtype=torch.float64)\n",
      "124.84013748168945\n",
      "tensor(9.1761, dtype=torch.float64)\n",
      "126.44540333747864\n",
      "tensor(9.1860, dtype=torch.float64)\n",
      "127.77572655677795\n",
      "tensor(9.1340, dtype=torch.float64)\n",
      "128.94819283485413\n",
      "tensor(9.1387, dtype=torch.float64)\n",
      "134.6072289943695\n",
      "tensor(9.0279, dtype=torch.float64)\n",
      "138.60238766670227\n",
      "tensor(9.0262, dtype=torch.float64)\n",
      "140.16196823120117\n",
      "tensor(8.9047, dtype=torch.float64)\n",
      "136.40167903900146\n",
      "tensor(8.8505, dtype=torch.float64)\n",
      "148.47789525985718\n",
      "tensor(8.9729, dtype=torch.float64)\n",
      "120.00178456306458\n",
      "epoch =  0 \n",
      " tensor(174.7539, dtype=torch.float64)\n",
      "tensor(8.8655, dtype=torch.float64)\n",
      "152.1523416042328\n",
      "tensor(8.8783, dtype=torch.float64)\n",
      "145.19198966026306\n",
      "tensor(8.9354, dtype=torch.float64)\n",
      "153.29881644248962\n",
      "tensor(8.8447, dtype=torch.float64)\n",
      "150.40245938301086\n",
      "tensor(8.8936, dtype=torch.float64)\n",
      "158.7485044002533\n",
      "tensor(8.8012, dtype=torch.float64)\n",
      "151.57544112205505\n",
      "tensor(8.8000, dtype=torch.float64)\n",
      "156.70262169837952\n",
      "tensor(8.6631, dtype=torch.float64)\n",
      "156.68923997879028\n",
      "tensor(8.8521, dtype=torch.float64)\n",
      "167.8123345375061\n",
      "tensor(8.7194, dtype=torch.float64)\n",
      "164.79733753204346\n",
      "tensor(8.6461, dtype=torch.float64)\n",
      "173.7134165763855\n",
      "tensor(8.7528, dtype=torch.float64)\n",
      "161.31054162979126\n",
      "tensor(8.6585, dtype=torch.float64)\n",
      "178.41862845420837\n",
      "tensor(8.6898, dtype=torch.float64)\n",
      "171.45310473442078\n",
      "tensor(8.6868, dtype=torch.float64)\n",
      "182.29500031471252\n",
      "tensor(8.7063, dtype=torch.float64)\n",
      "163.93830943107605\n",
      "tensor(8.5940, dtype=torch.float64)\n",
      "181.77657961845398\n",
      "tensor(8.7254, dtype=torch.float64)\n",
      "160.95288634300232\n",
      "tensor(8.6518, dtype=torch.float64)\n",
      "150.89227080345154\n",
      "epoch =  1 \n",
      " tensor(166.3647, dtype=torch.float64)\n",
      "tensor(8.6436, dtype=torch.float64)\n",
      "170.08458185195923\n",
      "tensor(8.5802, dtype=torch.float64)\n",
      "188.463308095932\n"
     ]
    }
   ],
   "source": [
    "# Training process!\n",
    "import time\n",
    "# setting training parameters\n",
    "batchsize = 1000\n",
    "epoch = 40\n",
    "lr = 1e6\n",
    "lr_nmf = 5000\n",
    "lr_cl = 5000\n",
    "loss_lst = []\n",
    "# train!\n",
    "for epo in range(epoch):\n",
    "    dataloader = torch.utils.data.DataLoader(dataset, batch_size = batchsize, shuffle = True)\n",
    "    total_loss = 0\n",
    "    for (i, (inputs, label)) in enumerate(dataloader):\n",
    "        t1 = time.time()\n",
    "        inputs = inputs.view([inputs.shape[0], inputs.shape[2]])\n",
    "        label = label.view([label.shape[0], -1])\n",
    "        inputs, label = Variable(inputs), Variable(label)\n",
    "       #train the lsqnonneg layers\n",
    "        net.zero_grad()\n",
    "        S_lst,pred = net(inputs)\n",
    "        loss = loss_func(inputs, S_lst,list(net.lsqnonneglst.parameters()),pred,label)\n",
    "        loss.backward()\n",
    "        loss_lst.append(loss.data)\n",
    "        total_loss += loss.data\n",
    "        print(loss.data)\n",
    "        t2 = time.time()\n",
    "        print(t2 - t1)\n",
    "        for A in net.parameters():\n",
    "            A.data = A.data.sub_(lr*A.grad.data)\n",
    "        for A in net.lsqnonneglst.parameters():\n",
    "            A.data = A.data.clamp(min = 0)\n",
    "    print('epoch = ', epo, '\\n', total_loss)"
   ]
  },
  {
   "cell_type": "code",
   "execution_count": 41,
   "metadata": {},
   "outputs": [
    {
     "name": "stdout",
     "output_type": "stream",
     "text": [
      "training the classifier\n",
      "tensor(58375.2478, dtype=torch.float64)\n",
      "training the nmf layer\n",
      "tensor(13.2588, dtype=torch.float64)\n",
      "training the classifier\n",
      "tensor(1.00000e+05 *\n",
      "       3.1508, dtype=torch.float64)\n",
      "training the nmf layer\n",
      "tensor(46978.0604, dtype=torch.float64)\n",
      "training the classifier\n",
      "tensor(1.00000e+05 *\n",
      "       1.2350, dtype=torch.float64)\n",
      "training the nmf layer\n",
      "tensor(26.9418, dtype=torch.float64)\n"
     ]
    },
    {
     "ename": "KeyboardInterrupt",
     "evalue": "",
     "output_type": "error",
     "traceback": [
      "\u001b[1;31m---------------------------------------------------------------------------\u001b[0m",
      "\u001b[1;31mKeyboardInterrupt\u001b[0m                         Traceback (most recent call last)",
      "\u001b[1;32m<ipython-input-41-490f1037193e>\u001b[0m in \u001b[0;36m<module>\u001b[1;34m()\u001b[0m\n\u001b[0;32m     17\u001b[0m         \u001b[1;31m#%memit\u001b[0m\u001b[1;33m\u001b[0m\u001b[1;33m\u001b[0m\u001b[0m\n\u001b[0;32m     18\u001b[0m         \u001b[1;31m# train the linear classifier\u001b[0m\u001b[1;33m\u001b[0m\u001b[1;33m\u001b[0m\u001b[0m\n\u001b[1;32m---> 19\u001b[1;33m         \u001b[0mS_lst\u001b[0m\u001b[1;33m,\u001b[0m \u001b[0mpred\u001b[0m \u001b[1;33m=\u001b[0m \u001b[0mnet\u001b[0m\u001b[1;33m(\u001b[0m\u001b[0minputs\u001b[0m\u001b[1;33m)\u001b[0m\u001b[1;33m\u001b[0m\u001b[0m\n\u001b[0m\u001b[0;32m     20\u001b[0m         \u001b[0mprint\u001b[0m\u001b[1;33m(\u001b[0m\u001b[1;34m'training the classifier'\u001b[0m\u001b[1;33m)\u001b[0m\u001b[1;33m\u001b[0m\u001b[0m\n\u001b[0;32m     21\u001b[0m         \u001b[1;32mfor\u001b[0m \u001b[0mA\u001b[0m \u001b[1;32min\u001b[0m \u001b[0mnet\u001b[0m\u001b[1;33m.\u001b[0m\u001b[0mlsqnonneglst\u001b[0m\u001b[1;33m.\u001b[0m\u001b[0mparameters\u001b[0m\u001b[1;33m(\u001b[0m\u001b[1;33m)\u001b[0m\u001b[1;33m:\u001b[0m\u001b[1;33m\u001b[0m\u001b[0m\n",
      "\u001b[1;32mC:\\Anaconda3\\lib\\site-packages\\torch\\nn\\modules\\module.py\u001b[0m in \u001b[0;36m__call__\u001b[1;34m(self, *input, **kwargs)\u001b[0m\n\u001b[0;32m    489\u001b[0m             \u001b[0mresult\u001b[0m \u001b[1;33m=\u001b[0m \u001b[0mself\u001b[0m\u001b[1;33m.\u001b[0m\u001b[0m_slow_forward\u001b[0m\u001b[1;33m(\u001b[0m\u001b[1;33m*\u001b[0m\u001b[0minput\u001b[0m\u001b[1;33m,\u001b[0m \u001b[1;33m**\u001b[0m\u001b[0mkwargs\u001b[0m\u001b[1;33m)\u001b[0m\u001b[1;33m\u001b[0m\u001b[0m\n\u001b[0;32m    490\u001b[0m         \u001b[1;32melse\u001b[0m\u001b[1;33m:\u001b[0m\u001b[1;33m\u001b[0m\u001b[0m\n\u001b[1;32m--> 491\u001b[1;33m             \u001b[0mresult\u001b[0m \u001b[1;33m=\u001b[0m \u001b[0mself\u001b[0m\u001b[1;33m.\u001b[0m\u001b[0mforward\u001b[0m\u001b[1;33m(\u001b[0m\u001b[1;33m*\u001b[0m\u001b[0minput\u001b[0m\u001b[1;33m,\u001b[0m \u001b[1;33m**\u001b[0m\u001b[0mkwargs\u001b[0m\u001b[1;33m)\u001b[0m\u001b[1;33m\u001b[0m\u001b[0m\n\u001b[0m\u001b[0;32m    492\u001b[0m         \u001b[1;32mfor\u001b[0m \u001b[0mhook\u001b[0m \u001b[1;32min\u001b[0m \u001b[0mself\u001b[0m\u001b[1;33m.\u001b[0m\u001b[0m_forward_hooks\u001b[0m\u001b[1;33m.\u001b[0m\u001b[0mvalues\u001b[0m\u001b[1;33m(\u001b[0m\u001b[1;33m)\u001b[0m\u001b[1;33m:\u001b[0m\u001b[1;33m\u001b[0m\u001b[0m\n\u001b[0;32m    493\u001b[0m             \u001b[0mhook_result\u001b[0m \u001b[1;33m=\u001b[0m \u001b[0mhook\u001b[0m\u001b[1;33m(\u001b[0m\u001b[0mself\u001b[0m\u001b[1;33m,\u001b[0m \u001b[0minput\u001b[0m\u001b[1;33m,\u001b[0m \u001b[0mresult\u001b[0m\u001b[1;33m)\u001b[0m\u001b[1;33m\u001b[0m\u001b[0m\n",
      "\u001b[1;32m~\\Dropbox\\Deep NMF\\Code\\Cathy Code\\Full Backprop Package\\deep_nmf.py\u001b[0m in \u001b[0;36mforward\u001b[1;34m(self, X)\u001b[0m\n\u001b[0;32m    103\u001b[0m         \u001b[1;32mfor\u001b[0m \u001b[0mi\u001b[0m \u001b[1;32min\u001b[0m \u001b[0mrange\u001b[0m\u001b[1;33m(\u001b[0m\u001b[0mself\u001b[0m\u001b[1;33m.\u001b[0m\u001b[0mdepth\u001b[0m\u001b[1;33m-\u001b[0m\u001b[1;36m1\u001b[0m\u001b[1;33m)\u001b[0m\u001b[1;33m:\u001b[0m\u001b[1;33m\u001b[0m\u001b[0m\n\u001b[0;32m    104\u001b[0m \u001b[1;33m\u001b[0m\u001b[0m\n\u001b[1;32m--> 105\u001b[1;33m             \u001b[0mX\u001b[0m \u001b[1;33m=\u001b[0m \u001b[0mself\u001b[0m\u001b[1;33m.\u001b[0m\u001b[0mlsqnonneglst\u001b[0m\u001b[1;33m[\u001b[0m\u001b[0mi\u001b[0m\u001b[1;33m]\u001b[0m\u001b[1;33m(\u001b[0m\u001b[0mX\u001b[0m\u001b[1;33m)\u001b[0m\u001b[1;33m\u001b[0m\u001b[0m\n\u001b[0m\u001b[0;32m    106\u001b[0m \u001b[1;33m\u001b[0m\u001b[0m\n\u001b[0;32m    107\u001b[0m             \u001b[0mS_lst\u001b[0m\u001b[1;33m.\u001b[0m\u001b[0mappend\u001b[0m\u001b[1;33m(\u001b[0m\u001b[0mX\u001b[0m\u001b[1;33m)\u001b[0m\u001b[1;33m\u001b[0m\u001b[0m\n",
      "\u001b[1;32mC:\\Anaconda3\\lib\\site-packages\\torch\\nn\\modules\\module.py\u001b[0m in \u001b[0;36m__call__\u001b[1;34m(self, *input, **kwargs)\u001b[0m\n\u001b[0;32m    489\u001b[0m             \u001b[0mresult\u001b[0m \u001b[1;33m=\u001b[0m \u001b[0mself\u001b[0m\u001b[1;33m.\u001b[0m\u001b[0m_slow_forward\u001b[0m\u001b[1;33m(\u001b[0m\u001b[1;33m*\u001b[0m\u001b[0minput\u001b[0m\u001b[1;33m,\u001b[0m \u001b[1;33m**\u001b[0m\u001b[0mkwargs\u001b[0m\u001b[1;33m)\u001b[0m\u001b[1;33m\u001b[0m\u001b[0m\n\u001b[0;32m    490\u001b[0m         \u001b[1;32melse\u001b[0m\u001b[1;33m:\u001b[0m\u001b[1;33m\u001b[0m\u001b[0m\n\u001b[1;32m--> 491\u001b[1;33m             \u001b[0mresult\u001b[0m \u001b[1;33m=\u001b[0m \u001b[0mself\u001b[0m\u001b[1;33m.\u001b[0m\u001b[0mforward\u001b[0m\u001b[1;33m(\u001b[0m\u001b[1;33m*\u001b[0m\u001b[0minput\u001b[0m\u001b[1;33m,\u001b[0m \u001b[1;33m**\u001b[0m\u001b[0mkwargs\u001b[0m\u001b[1;33m)\u001b[0m\u001b[1;33m\u001b[0m\u001b[0m\n\u001b[0m\u001b[0;32m    492\u001b[0m         \u001b[1;32mfor\u001b[0m \u001b[0mhook\u001b[0m \u001b[1;32min\u001b[0m \u001b[0mself\u001b[0m\u001b[1;33m.\u001b[0m\u001b[0m_forward_hooks\u001b[0m\u001b[1;33m.\u001b[0m\u001b[0mvalues\u001b[0m\u001b[1;33m(\u001b[0m\u001b[1;33m)\u001b[0m\u001b[1;33m:\u001b[0m\u001b[1;33m\u001b[0m\u001b[0m\n\u001b[0;32m    493\u001b[0m             \u001b[0mhook_result\u001b[0m \u001b[1;33m=\u001b[0m \u001b[0mhook\u001b[0m\u001b[1;33m(\u001b[0m\u001b[0mself\u001b[0m\u001b[1;33m,\u001b[0m \u001b[0minput\u001b[0m\u001b[1;33m,\u001b[0m \u001b[0mresult\u001b[0m\u001b[1;33m)\u001b[0m\u001b[1;33m\u001b[0m\u001b[0m\n",
      "\u001b[1;32m~\\Dropbox\\Deep NMF\\Code\\Cathy Code\\Full Backprop Package\\lsqnonneg_module.py\u001b[0m in \u001b[0;36mforward\u001b[1;34m(self, input)\u001b[0m\n\u001b[0;32m    159\u001b[0m \u001b[1;33m\u001b[0m\u001b[0m\n\u001b[0;32m    160\u001b[0m     \u001b[1;32mdef\u001b[0m \u001b[0mforward\u001b[0m\u001b[1;33m(\u001b[0m\u001b[0mself\u001b[0m\u001b[1;33m,\u001b[0m \u001b[0minput\u001b[0m\u001b[1;33m)\u001b[0m\u001b[1;33m:\u001b[0m\u001b[1;33m\u001b[0m\u001b[0m\n\u001b[1;32m--> 161\u001b[1;33m         \u001b[1;32mreturn\u001b[0m \u001b[0mLsqNonnegF\u001b[0m\u001b[1;33m.\u001b[0m\u001b[0mapply\u001b[0m\u001b[1;33m(\u001b[0m\u001b[0minput\u001b[0m\u001b[1;33m,\u001b[0m \u001b[0mself\u001b[0m\u001b[1;33m.\u001b[0m\u001b[0mA\u001b[0m\u001b[1;33m)\u001b[0m\u001b[1;33m\u001b[0m\u001b[0m\n\u001b[0m\u001b[0;32m    162\u001b[0m \u001b[1;33m\u001b[0m\u001b[0m\n\u001b[0;32m    163\u001b[0m \u001b[1;33m\u001b[0m\u001b[0m\n",
      "\u001b[1;32m~\\Dropbox\\Deep NMF\\Code\\Cathy Code\\Full Backprop Package\\lsqnonneg_module.py\u001b[0m in \u001b[0;36mforward\u001b[1;34m(ctx, input, A)\u001b[0m\n\u001b[0;32m     36\u001b[0m         \u001b[1;31m# output[i,:] = argmin_{s >= 0} ||X[i,:] - s*A||_F^2\u001b[0m\u001b[1;33m\u001b[0m\u001b[1;33m\u001b[0m\u001b[0m\n\u001b[0;32m     37\u001b[0m         \u001b[1;31m# this is slightly different from what we do in NMF\u001b[0m\u001b[1;33m\u001b[0m\u001b[1;33m\u001b[0m\u001b[0m\n\u001b[1;32m---> 38\u001b[1;33m         \u001b[1;33m[\u001b[0m\u001b[0moutput\u001b[0m\u001b[1;33m,\u001b[0m \u001b[0mres\u001b[0m\u001b[1;33m]\u001b[0m \u001b[1;33m=\u001b[0m \u001b[0mlsqnonneg_tensor_version\u001b[0m\u001b[1;33m(\u001b[0m\u001b[0mA\u001b[0m\u001b[1;33m.\u001b[0m\u001b[0mdata\u001b[0m\u001b[1;33m.\u001b[0m\u001b[0mt\u001b[0m\u001b[1;33m(\u001b[0m\u001b[1;33m)\u001b[0m\u001b[1;33m,\u001b[0m \u001b[0minput\u001b[0m\u001b[1;33m.\u001b[0m\u001b[0mdata\u001b[0m\u001b[1;33m.\u001b[0m\u001b[0mt\u001b[0m\u001b[1;33m(\u001b[0m\u001b[1;33m)\u001b[0m\u001b[1;33m)\u001b[0m\u001b[1;33m\u001b[0m\u001b[0m\n\u001b[0m\u001b[0;32m     39\u001b[0m         \u001b[1;31m# normalize the output\u001b[0m\u001b[1;33m\u001b[0m\u001b[1;33m\u001b[0m\u001b[0m\n\u001b[0;32m     40\u001b[0m         \u001b[1;31m#output_sum = torch.sum(output, dim =1) + 1e-10\u001b[0m\u001b[1;33m\u001b[0m\u001b[1;33m\u001b[0m\u001b[0m\n",
      "\u001b[1;32m~\\Dropbox\\Deep NMF\\Code\\Cathy Code\\Full Backprop Package\\lsqnonneg_module.py\u001b[0m in \u001b[0;36mlsqnonneg_tensor_version\u001b[1;34m(C, D)\u001b[0m\n\u001b[0;32m     84\u001b[0m     \u001b[1;32mfor\u001b[0m \u001b[0mi\u001b[0m \u001b[1;32min\u001b[0m \u001b[0mrange\u001b[0m\u001b[1;33m(\u001b[0m\u001b[0mm\u001b[0m\u001b[1;33m)\u001b[0m\u001b[1;33m:\u001b[0m\u001b[1;33m\u001b[0m\u001b[0m\n\u001b[0;32m     85\u001b[0m         \u001b[0md\u001b[0m \u001b[1;33m=\u001b[0m \u001b[0mD\u001b[0m\u001b[1;33m[\u001b[0m\u001b[1;33m:\u001b[0m\u001b[1;33m,\u001b[0m\u001b[0mi\u001b[0m\u001b[1;33m]\u001b[0m\u001b[1;33m\u001b[0m\u001b[0m\n\u001b[1;32m---> 86\u001b[1;33m         \u001b[1;33m[\u001b[0m\u001b[0mx\u001b[0m\u001b[1;33m,\u001b[0m \u001b[0mres\u001b[0m\u001b[1;33m]\u001b[0m \u001b[1;33m=\u001b[0m \u001b[0mnnls\u001b[0m\u001b[1;33m(\u001b[0m\u001b[0mC\u001b[0m\u001b[1;33m,\u001b[0m \u001b[0md\u001b[0m\u001b[1;33m)\u001b[0m\u001b[1;33m\u001b[0m\u001b[0m\n\u001b[0m\u001b[0;32m     87\u001b[0m         \u001b[0mres_total\u001b[0m \u001b[1;33m+=\u001b[0m \u001b[0mres\u001b[0m\u001b[1;33m\u001b[0m\u001b[0m\n\u001b[0;32m     88\u001b[0m         \u001b[0mX\u001b[0m\u001b[1;33m[\u001b[0m\u001b[1;33m:\u001b[0m\u001b[1;33m,\u001b[0m\u001b[0mi\u001b[0m\u001b[1;33m]\u001b[0m \u001b[1;33m=\u001b[0m \u001b[0mx\u001b[0m\u001b[1;33m\u001b[0m\u001b[0m\n",
      "\u001b[1;32mC:\\Anaconda3\\lib\\site-packages\\scipy\\optimize\\nnls.py\u001b[0m in \u001b[0;36mnnls\u001b[1;34m(A, b, maxiter)\u001b[0m\n\u001b[0;32m     59\u001b[0m     \u001b[0mindex\u001b[0m \u001b[1;33m=\u001b[0m \u001b[0mzeros\u001b[0m\u001b[1;33m(\u001b[0m\u001b[1;33m(\u001b[0m\u001b[0mn\u001b[0m\u001b[1;33m,\u001b[0m\u001b[1;33m)\u001b[0m\u001b[1;33m,\u001b[0m \u001b[0mdtype\u001b[0m\u001b[1;33m=\u001b[0m\u001b[0mint\u001b[0m\u001b[1;33m)\u001b[0m\u001b[1;33m\u001b[0m\u001b[0m\n\u001b[0;32m     60\u001b[0m \u001b[1;33m\u001b[0m\u001b[0m\n\u001b[1;32m---> 61\u001b[1;33m     \u001b[0mx\u001b[0m\u001b[1;33m,\u001b[0m \u001b[0mrnorm\u001b[0m\u001b[1;33m,\u001b[0m \u001b[0mmode\u001b[0m \u001b[1;33m=\u001b[0m \u001b[0m_nnls\u001b[0m\u001b[1;33m.\u001b[0m\u001b[0mnnls\u001b[0m\u001b[1;33m(\u001b[0m\u001b[0mA\u001b[0m\u001b[1;33m,\u001b[0m \u001b[0mm\u001b[0m\u001b[1;33m,\u001b[0m \u001b[0mn\u001b[0m\u001b[1;33m,\u001b[0m \u001b[0mb\u001b[0m\u001b[1;33m,\u001b[0m \u001b[0mw\u001b[0m\u001b[1;33m,\u001b[0m \u001b[0mzz\u001b[0m\u001b[1;33m,\u001b[0m \u001b[0mindex\u001b[0m\u001b[1;33m,\u001b[0m \u001b[0mmaxiter\u001b[0m\u001b[1;33m)\u001b[0m\u001b[1;33m\u001b[0m\u001b[0m\n\u001b[0m\u001b[0;32m     62\u001b[0m     \u001b[1;32mif\u001b[0m \u001b[0mmode\u001b[0m \u001b[1;33m!=\u001b[0m \u001b[1;36m1\u001b[0m\u001b[1;33m:\u001b[0m\u001b[1;33m\u001b[0m\u001b[0m\n\u001b[0;32m     63\u001b[0m         \u001b[1;32mraise\u001b[0m \u001b[0mRuntimeError\u001b[0m\u001b[1;33m(\u001b[0m\u001b[1;34m\"too many iterations\"\u001b[0m\u001b[1;33m)\u001b[0m\u001b[1;33m\u001b[0m\u001b[0m\n",
      "\u001b[1;31mKeyboardInterrupt\u001b[0m: "
     ]
    }
   ],
   "source": [
    "# Training process!\n",
    "\n",
    "# setting training parameters\n",
    "batchsize = 100\n",
    "epoch = 4\n",
    "lr_nmf = 10000\n",
    "lr_cl = 10000\n",
    "loss_lst = []\n",
    "# train!\n",
    "for epo in range(epoch):\n",
    "    dataloader = torch.utils.data.DataLoader(dataset, batch_size = batchsize, shuffle = True)\n",
    "    total_loss = 0\n",
    "    for (i, (inputs, label)) in enumerate(dataloader):\n",
    "        inputs = inputs.view([inputs.shape[0], inputs.shape[2]])\n",
    "        label = label.view([label.shape[0], -1])\n",
    "        inputs, label = Variable(inputs), Variable(label)\n",
    "        #%memit\n",
    "        # train the linear classifier\n",
    "        S_lst, pred = net(inputs)\n",
    "        print('training the classifier')\n",
    "        for A in net.lsqnonneglst.parameters():\n",
    "            A.requires_grad = False\n",
    "        for k in range(1):\n",
    "            net.zero_grad()\n",
    "            pred = net.linear(S_lst[-1].data)\n",
    "            loss = criterion(pred, label)\n",
    "            loss.backward()\n",
    "            print(loss.data)\n",
    "            for A in net.linear.parameters():\n",
    "                A.data = A.data.sub_(lr_cl*A.grad.data)\n",
    "#         %memit\n",
    "        for A in net.lsqnonneglst.parameters():\n",
    "            A.requires_grad = True\n",
    "       #train the lsqnonneg layers\n",
    "        net.zero_grad()\n",
    "        S_lst,pred = net(inputs)\n",
    "        loss = loss_func(inputs, S_lst,list(net.lsqnonneglst.parameters()),pred,label)\n",
    "        loss.backward()\n",
    "        loss_lst.append(loss.data)\n",
    "        total_loss += loss.data\n",
    "        print('training the nmf layer')\n",
    "        print(loss.data)\n",
    "        for A in net.lsqnonneglst.parameters():\n",
    "            A.data = A.data.sub_(lr_nmf*A.grad.data)\n",
    "            A.data = A.data.clamp(min = 0)\n",
    "            A.requires_grad = False\n",
    "    # should be deleted later on\n",
    "    break\n",
    "    print('epoch = ', epo, '\\n', total_loss)"
   ]
  },
  {
   "cell_type": "code",
   "execution_count": 19,
   "metadata": {
    "collapsed": true
   },
   "outputs": [],
   "source": [
    "# save the data\n",
    "np.savez(save_PATH + save_filename,\n",
    "         param_lst = list(net.parameters()), loss_lst = loss_lst)"
   ]
  },
  {
   "cell_type": "code",
   "execution_count": 69,
   "metadata": {
    "scrolled": true
   },
   "outputs": [
    {
     "data": {
      "image/png": "[encoded data removed]",
      "text/plain": [
       "<Figure size 432x288 with 1 Axes>"
      ]
     },
     "metadata": {},
     "output_type": "display_data"
    }
   ],
   "source": [
    "# plot the loss curve\n",
    "plt.plot(loss_lst)\n",
    "plt.show()\n",
    "# # Get the whole output of the whole dataset (running forward propagation on the whole dataset)\n",
    "# S, pred = get_whole_output(net, dataset)\n",
    "# # Get the accuracy\n",
    "# accuracy = torch.sum(torch.argmax(pred, 1) \n",
    "#                      == torch.argmax(torch.from_numpy(Y),1))/len(dataset)\n",
    "# print(accuracy)\n",
    "# # Get the reconstruction error\n",
    "# A_np = net.lsqnonneglst[0].A.data.numpy()\n",
    "# S_np = S.data.numpy()\n",
    "# fro_error, fro_X = calc_reconstruction_error(data_input, A_np, S_np)\n",
    "# print(fro_error/fro_X)"
   ]
  },
  {
   "cell_type": "code",
   "execution_count": null,
   "metadata": {
    "collapsed": true
   },
   "outputs": [],
   "source": [
    "# save the data\n",
    "np.savez(save_PATH + save_filename, S = S, pred = pred,\n",
    "         param_lst = list(net.parameters()), loss_lst = loss_lst)"
   ]
  },
  {
   "cell_type": "code",
   "execution_count": null,
   "metadata": {},
   "outputs": [],
   "source": []
  }
 ],
 "metadata": {
  "kernelspec": {
   "display_name": "Python 3",
   "language": "python",
   "name": "python3"
  },
  "language_info": {
   "codemirror_mode": {
    "name": "ipython",
    "version": 3
   },
   "file_extension": ".py",
   "mimetype": "text/x-python",
   "name": "python",
   "nbconvert_exporter": "python",
   "pygments_lexer": "ipython3",
   "version": "3.6.5"
  }
 },
 "nbformat": 4,
 "nbformat_minor": 2
}
