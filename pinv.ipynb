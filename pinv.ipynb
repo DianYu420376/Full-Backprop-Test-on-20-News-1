{
 "cells": [
  {
   "cell_type": "code",
   "execution_count": null,
   "metadata": {},
   "outputs": [],
   "source": [
    "'''\n",
    "Date: 2018.08.01\n",
    "Author: Runyu Zhang\n",
    "Creating a torch autograd function and nn.Module subclass for the pseudo inverse operation\n",
    "'''\n"
   ]
  },
  {
   "cell_type": "code",
   "execution_count": 1,
   "metadata": {},
   "outputs": [],
   "source": [
    "import numpy as np\n",
    "import torch\n",
    "import torch.nn as nn\n",
    "from torch.autograd import Variable\n",
    "from torch.autograd.function import once_differentiable"
   ]
  },
  {
   "cell_type": "code",
   "execution_count": 62,
   "metadata": {},
   "outputs": [],
   "source": [
    "class PinvF(torch.autograd.Function):\n",
    "    '''\n",
    "    Define the forward and backward process for pseudo inverse calculation\n",
    "    '''\n",
    "    @staticmethod\n",
    "    def forward(ctx, input):\n",
    "        ctx.save_for_backward(input)\n",
    "        output_np = np.linalg.pinv((input.data.numpy()))\n",
    "        output = torch.from_numpy(output_np).double()\n",
    "        ctx.intermediate = output\n",
    "        return output\n",
    "    @staticmethod\n",
    "    @once_differentiable\n",
    "    def backward(ctx, grad_output):\n",
    "        input = ctx.saved_tensors\n",
    "        input = input[0]\n",
    "        output = ctx.intermediate\n",
    "        grad_input = None\n",
    "        if ctx.needs_input_grad[0]:\n",
    "            grad_input = calc_grad_pinv(input.data,output, grad_output)\n",
    "        return grad_input\n",
    "        "
   ]
  },
  {
   "cell_type": "code",
   "execution_count": 63,
   "metadata": {},
   "outputs": [],
   "source": [
    "def calc_grad_pinv(A, pinvA, G):\n",
    "    part1 = torch.mm(torch.mm(pinvA.t(), G), pinvA.t())\n",
    "    part2 = torch.mm(G,torch.mm(pinvA.t(), pinvA))\n",
    "    part3 = torch.mm(A.t(), torch.mm(pinvA.t(),part2))\n",
    "    return -part1 + part2.t() - part3.t()"
   ]
  },
  {
   "cell_type": "code",
   "execution_count": 65,
   "metadata": {},
   "outputs": [],
   "source": [
    "# from torch.autograd import gradcheck\n",
    "# input = torch.randn(20,100).double()\n",
    "# input = Variable(torch.abs(input), requires_grad = True)\n",
    "# a = [input]\n",
    "# print(len(a))\n",
    "# test = gradcheck(PinvF().apply, a, eps = 1e-6, atol = 0)"
   ]
  },
  {
   "cell_type": "code",
   "execution_count": null,
   "metadata": {},
   "outputs": [],
   "source": []
  }
 ],
 "metadata": {
  "kernelspec": {
   "display_name": "Python 3",
   "language": "python",
   "name": "python3"
  },
  "language_info": {
   "codemirror_mode": {
    "name": "ipython",
    "version": 3
   },
   "file_extension": ".py",
   "mimetype": "text/x-python",
   "name": "python",
   "nbconvert_exporter": "python",
   "pygments_lexer": "ipython3",
   "version": "3.6.5"
  }
 },
 "nbformat": 4,
 "nbformat_minor": 2
}
