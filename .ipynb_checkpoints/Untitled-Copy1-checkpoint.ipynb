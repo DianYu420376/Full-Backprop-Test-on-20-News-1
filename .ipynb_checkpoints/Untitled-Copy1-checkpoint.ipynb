{
 "cells": [
  {
   "cell_type": "code",
   "execution_count": 63,
   "metadata": {},
   "outputs": [],
   "source": [
    "# debugging the supervised version of deep NMF\n",
    "import torch\n",
    "from torch.autograd import Variable\n",
    "from auxillary_functions import *\n",
    "from pinv import PinvF\n",
    "import numpy as np\n",
    "from writer import Writer\n",
    "from matplotlib import pyplot as plt\n",
    "from lsqnonneg_module import LsqNonneg\n",
    "from deep_nmf import Fro_Norm\n",
    "from pinv import PinvF"
   ]
  },
  {
   "cell_type": "code",
   "execution_count": 64,
   "metadata": {},
   "outputs": [],
   "source": [
    "import Ipynb_importer\n",
    "from twenty_news_group_data_loading import data, Y, target,L20, L50, L90, sparsedata_cr_entr, sparsedata_L2"
   ]
  },
  {
   "cell_type": "code",
   "execution_count": 65,
   "metadata": {},
   "outputs": [],
   "source": [
    "m = data.shape[1]\n",
    "k = 20\n",
    "net = LsqNonneg(m, k)\n",
    "W = Variable(torch.randn(20,20).double(), requires_grad = True)\n",
    "dataset = sparsedata_L2(data*1000, Y*1000)\n",
    "cr1 = Fro_Norm()\n",
    "cr2 = Fro_Norm()"
   ]
  },
  {
   "cell_type": "code",
   "execution_count": 67,
   "metadata": {},
   "outputs": [],
   "source": [
    "f = PinvF.apply"
   ]
  },
  {
   "cell_type": "code",
   "execution_count": null,
   "metadata": {},
   "outputs": [
    {
     "name": "stdout",
     "output_type": "stream",
     "text": [
      "0 tensor(8.1795, dtype=torch.float64)\n",
      "1 tensor(7.9600, dtype=torch.float64)\n",
      "2 tensor(8.3395, dtype=torch.float64)\n",
      "3 tensor(8.0954, dtype=torch.float64)\n",
      "4 tensor(7.9584, dtype=torch.float64)\n",
      "5 tensor(8.6275, dtype=torch.float64)\n",
      "6 tensor(8.0700, dtype=torch.float64)\n",
      "7 tensor(8.1883, dtype=torch.float64)\n",
      "8 tensor(8.0817, dtype=torch.float64)\n",
      "9 tensor(8.1951, dtype=torch.float64)\n",
      "10 tensor(8.1314, dtype=torch.float64)\n",
      "11 tensor(8.0338, dtype=torch.float64)\n",
      "12 tensor(8.0586, dtype=torch.float64)\n",
      "13 tensor(7.9419, dtype=torch.float64)\n",
      "14 tensor(8.3072, dtype=torch.float64)\n",
      "15 tensor(8.5240, dtype=torch.float64)\n",
      "16 tensor(8.0499, dtype=torch.float64)\n",
      "17 tensor(8.3090, dtype=torch.float64)\n",
      "18 tensor(8.2712, dtype=torch.float64)\n",
      "19 tensor(8.0340, dtype=torch.float64)\n",
      "20 tensor(8.0489, dtype=torch.float64)\n",
      "21 tensor(8.2021, dtype=torch.float64)\n",
      "22 tensor(8.2360, dtype=torch.float64)\n",
      "23 tensor(8.4151, dtype=torch.float64)\n",
      "24 tensor(8.2325, dtype=torch.float64)\n",
      "25 tensor(8.1031, dtype=torch.float64)\n",
      "26 tensor(8.0391, dtype=torch.float64)\n",
      "27 tensor(8.4478, dtype=torch.float64)\n",
      "28 tensor(8.1874, dtype=torch.float64)\n",
      "29 tensor(8.0875, dtype=torch.float64)\n",
      "30 tensor(8.3105, dtype=torch.float64)\n",
      "31 tensor(8.1800, dtype=torch.float64)\n"
     ]
    }
   ],
   "source": [
    "lr_nmf = 10000\n",
    "lr_clf = 10000\n",
    "epoch = 1\n",
    "batchsize = 40\n",
    "lambd = 1e-4\n",
    "loss_lst = []\n",
    "for epo in range(epoch):\n",
    "    dataloader = torch.utils.data.DataLoader(dataset, batch_size = batchsize, shuffle = True)\n",
    "    for (i, (inputs, label)) in enumerate(dataloader):\n",
    "        inputs = inputs.view([inputs.shape[0], inputs.shape[2]])\n",
    "        label = label.view([label.shape[0], -1])\n",
    "        inputs, label = Variable(inputs), Variable(label)\n",
    "        S = net(inputs)\n",
    "        W.data = torch.mm(f(S.data),label)\n",
    "        pred = torch.mm(S,W.data)\n",
    "        reconstruction = cr1(inputs, torch.mm(S,net.A))\n",
    "        classification = cr2(pred, label)\n",
    "        loss = reconstruction + 1e-4*classification\n",
    "        loss.backward()\n",
    "        print(i, loss.data)\n",
    "        loss_lst.append(loss.data)\n",
    "        net.A.data = net.A.data.sub_(lr_nmf*net.A.grad.data)\n",
    "        net.A.data = net.A.data.clamp(min = 0)\n",
    "        #W.data = W.data.sub_(lr_clf*W.grad.data)"
   ]
  },
  {
   "cell_type": "code",
   "execution_count": 39,
   "metadata": {},
   "outputs": [
    {
     "data": {
      "text/plain": [
       "tensor(14758)"
      ]
     },
     "execution_count": 39,
     "metadata": {},
     "output_type": "execute_result"
    }
   ],
   "source": [
    "torch.sum(net.A.data[0,:] != 0)"
   ]
  },
  {
   "cell_type": "code",
   "execution_count": 53,
   "metadata": {},
   "outputs": [
    {
     "name": "stdout",
     "output_type": "stream",
     "text": [
      "tensor(0., dtype=torch.float64)\n",
      "tensor(3697.4496, dtype=torch.float64)\n"
     ]
    }
   ],
   "source": [
    "print(torch.min(torch.abs(net.A.data/net.A.grad.data)))\n",
    "print(torch.min(torch.abs(W.data/W.grad.data)))"
   ]
  },
  {
   "cell_type": "code",
   "execution_count": 56,
   "metadata": {},
   "outputs": [],
   "source": [
    "A = net.A.data"
   ]
  },
  {
   "cell_type": "code",
   "execution_count": null,
   "metadata": {},
   "outputs": [],
   "source": []
  }
 ],
 "metadata": {
  "kernelspec": {
   "display_name": "Python 3",
   "language": "python",
   "name": "python3"
  },
  "language_info": {
   "codemirror_mode": {
    "name": "ipython",
    "version": 3
   },
   "file_extension": ".py",
   "mimetype": "text/x-python",
   "name": "python",
   "nbconvert_exporter": "python",
   "pygments_lexer": "ipython3",
   "version": "3.6.5"
  }
 },
 "nbformat": 4,
 "nbformat_minor": 2
}
