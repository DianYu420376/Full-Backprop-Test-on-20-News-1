{
 "cells": [
  {
   "cell_type": "code",
   "execution_count": 1,
   "metadata": {},
   "outputs": [],
   "source": [
    "'''\n",
    "Test on filtered 20NewsGroup dataset\n",
    "semi_60 one layer\n",
    "'''\n",
    "save_PATH = 'saved_data/'\n",
    "save_filename = 'semi_60_one_layer_pinv'"
   ]
  },
  {
   "cell_type": "code",
   "execution_count": 2,
   "metadata": {},
   "outputs": [],
   "source": [
    "import torch\n",
    "import torch.nn as nn\n",
    "from torch.autograd import Variable\n",
    "import numpy as np\n",
    "import sys\n",
    "package_dir = '../full_backprop_package/'\n",
    "sys.path.append(package_dir)\n",
    "from deep_nmf import Deep_NMF, Fro_Norm\n",
    "from pinv import PinvF\n",
    "from writer import Writer"
   ]
  },
  {
   "cell_type": "code",
   "execution_count": 5,
   "metadata": {},
   "outputs": [],
   "source": [
    "from data_loading import sparsedata_L2, data, Y1, L1"
   ]
  },
  {
   "cell_type": "code",
   "execution_count": 6,
   "metadata": {},
   "outputs": [],
   "source": [
    "n = data.shape[0]\n",
    "m = data.shape[1]\n",
    "k1 = 20\n",
    "k2 = 6\n",
    "net = Deep_NMF([m, k1])\n",
    "criterion = Fro_Norm()\n",
    "pinv = PinvF.apply\n",
    "dataset = sparsedata_L2(1000*data, 1000*Y 1, L1)"
   ]
  },
  {
   "cell_type": "code",
   "execution_count": null,
   "metadata": {},
   "outputs": [],
   "source": [
    "lr = 5000\n",
    "batchsize = 150\n",
    "lambd = 1e-4\n",
    "epoch = 11\n",
    "loss_lst = []\n",
    "for epo in range(epoch):\n",
    "    total_loss = 0\n",
    "    dataloader = torch.utils.data.DataLoader(dataset, batch_size = batchsize, shuffle = True)\n",
    "    for (i,(inputs, label, l_batch)) in enumerate(dataloader):\n",
    "        net.zero_grad()\n",
    "        \n",
    "        inputs = torch.reshape(inputs, [inputs.shape[0], inputs.shape[2]])\n",
    "        label = torch.reshape(label, [label.shape[0], label.shape[2]])\n",
    "        l_batch = torch.reshape(l_batch,[l_batch.shape[0], label.shape[2]])\n",
    "        inputs, label = Variable(inputs), Variable(label.double())\n",
    "        \n",
    "        S_lst = net(inputs)\n",
    "        S = S_lst[-1]\n",
    "        B = torch.mm(pinv(S), label)\n",
    "        pred = torch.mm(S,B)\n",
    "        \n",
    "        loss1 = criterion(torch.mm(S, net.lsqnonneglst[0].A), inputs)\n",
    "        loss2 = criterion(pred, label)\n",
    "        loss = loss1 + lambd*loss2\n",
    "        print('epoch = ', epo, 'batch = ',i)\n",
    "        print(loss.data, loss1.data, lambd*loss2.data)\n",
    "        sys.stdout.flush()\n",
    "        loss_lst.append(loss.data)\n",
    "        total_loss += loss.data\n",
    "        \n",
    "        loss.backward()\n",
    "        for A in net.parameters():\n",
    "            A.data = A.data.sub_(lr*A.grad.data)\n",
    "            A.data = A.data.clamp(min = 0)\n",
    "\n",
    "    print('epoch = ', epo)\n",
    "    print('total_loss = ', total_loss)\n"
   ]
  }
 ],
 "metadata": {
  "kernelspec": {
   "display_name": "Python 3",
   "language": "python",
   "name": "python3"
  },
  "language_info": {
   "codemirror_mode": {
    "name": "ipython",
    "version": 3
   },
   "file_extension": ".py",
   "mimetype": "text/x-python",
   "name": "python",
   "nbconvert_exporter": "python",
   "pygments_lexer": "ipython3",
   "version": "3.6.5"
  }
 },
 "nbformat": 4,
 "nbformat_minor": 2
}
