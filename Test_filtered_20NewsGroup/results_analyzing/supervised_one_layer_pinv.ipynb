{
 "cells": [
  {
   "cell_type": "code",
   "execution_count": 14,
   "metadata": {},
   "outputs": [],
   "source": [
    "'''\n",
    "analyzing experiment result for supervised_one_layer_pinv\n",
    "\n",
    "Records:\n",
    "Batch: 150\n",
    "Epoch: 11\n",
    "Accuracy: 90.9%\n",
    "NMF reconstruction error: 99.48%\n",
    "\n",
    "Problems need to be fixed:\n",
    "The classification error is decreasing, but the reconstruction loss does not decrease\n",
    "'''\n",
    "save_PATH = '../saved_data/'"
   ]
  },
  {
   "cell_type": "code",
   "execution_count": 5,
   "metadata": {},
   "outputs": [],
   "source": [
    "import numpy as np\n",
    "from matplotlib import pyplot as plt\n",
    "import scipy.io as sio"
   ]
  },
  {
   "cell_type": "code",
   "execution_count": 7,
   "metadata": {},
   "outputs": [],
   "source": [
    "data_loc = '../Twenty_newgroups_formatted_full'\n",
    "X = sio.loadmat(data_loc)\n",
    "data = X['X'].T"
   ]
  },
  {
   "cell_type": "code",
   "execution_count": 8,
   "metadata": {},
   "outputs": [
    {
     "data": {
      "image/png": "[encoded data removed]",
      "text/plain": [
       "<Figure size 432x288 with 1 Axes>"
      ]
     },
     "metadata": {},
     "output_type": "display_data"
    }
   ],
   "source": [
    "## supervised_one_layer\n",
    "file_name = 'supervised_one_layer_pinv.npz'\n",
    "X = np.load(save_PATH + file_name)\n",
    "S = X['S']\n",
    "A = X['param_lst'][0]\n",
    "loss_lst = X['loss_lst']\n",
    "plt.plot(loss_lst)\n",
    "plt.show()"
   ]
  },
  {
   "cell_type": "code",
   "execution_count": 11,
   "metadata": {
    "scrolled": true
   },
   "outputs": [
    {
     "name": "stdout",
     "output_type": "stream",
     "text": [
      "18198055633.482624 18293000000.0\n"
     ]
    }
   ],
   "source": [
    "fro_error, fro_X = calc_reconstruction_error(1000*data,A,S)\n",
    "print(fro_error, fro_X)\n",
    "print(fro_error/fro_X)"
   ]
  },
  {
   "cell_type": "code",
   "execution_count": 10,
   "metadata": {},
   "outputs": [],
   "source": [
    "def calc_reconstruction_error(X,A,S):\n",
    "    '''\n",
    "    Compute the relative reconstruction error\n",
    "    \n",
    "    ---- Inputs:\n",
    "    X: sparse numpy matrix\n",
    "    A: numpy array\n",
    "    S: numpy array\n",
    "    ---- Outputs:\n",
    "    fro_error\n",
    "    fro_X\n",
    "    '''\n",
    "    fro_error = 0\n",
    "    fro_X = 0\n",
    "    n = X.shape[0]\n",
    "    if n%100 == 0:\n",
    "        batch_num = n//100\n",
    "    else:\n",
    "        batch_num = n//100 + 1\n",
    "    for i in range(batch_num):\n",
    "        try:\n",
    "            X_ = X[i*100:(i+1)*100].todense()      \n",
    "            temp = np.linalg.norm(X_ - S[i*100:(i+1)*100]@A)\n",
    "            temp_X = np.linalg.norm(X_)\n",
    "        except:\n",
    "            X_ = X[i*100:].todense()  \n",
    "            temp = np.linalg.norm(X_ - S[i*100:]@A)\n",
    "            temp_X = np.linalg.norm(X_)\n",
    "        fro_error += temp**2\n",
    "        fro_X += temp_X**2\n",
    "    return fro_error, fro_X\n"
   ]
  },
  {
   "cell_type": "code",
   "execution_count": null,
   "metadata": {},
   "outputs": [],
   "source": []
  }
 ],
 "metadata": {
  "kernelspec": {
   "display_name": "Python 3",
   "language": "python",
   "name": "python3"
  },
  "language_info": {
   "codemirror_mode": {
    "name": "ipython",
    "version": 3
   },
   "file_extension": ".py",
   "mimetype": "text/x-python",
   "name": "python",
   "nbconvert_exporter": "python",
   "pygments_lexer": "ipython3",
   "version": "3.6.5"
  }
 },
 "nbformat": 4,
 "nbformat_minor": 2
}
